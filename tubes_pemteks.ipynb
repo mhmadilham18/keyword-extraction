{
 "cells": [
  {
   "cell_type": "markdown",
   "id": "9ada85b9",
   "metadata": {},
   "source": [
    "# Klasifikasi Otomatis Tingkat Kesulitan Soal Berdasarkan Analisis Kata Kerja Operasional Taksonomi Bloom\n",
    "1. M Ilham Abdul Shaleh (F1D022061)\n",
    "2. Nazila Imkani (F1D022081)\n",
    "3. Fernandao Kwangtama Tekayadi (F1D02212)"
   ]
  },
  {
   "cell_type": "code",
   "execution_count": 2,
   "id": "5c914701",
   "metadata": {},
   "outputs": [],
   "source": [
    "import pandas as pd\n",
    "import numpy as np\n",
    "import matplotlib.pyplot as plt\n",
    "import seaborn as sns\n",
    "from collections import Counter\n",
    "from Sastrawi.Stemmer.StemmerFactory import StemmerFactory\n",
    "from sklearn.metrics import confusion_matrix, accuracy_score, classification_report"
   ]
  },
  {
   "cell_type": "markdown",
   "id": "2d81f758",
   "metadata": {},
   "source": [
    "Kode di atas merupakan menggunakan beberapa import dari library yang berbeda. Pandas dan numpy digunakan untuk manipulasi data dan operasi numerik, sedangkan matplotlib.pyplot dan seaborn digunakan untuk visualisasi data. Counter dari modul collections digunakan untuk menghitung frekuensi elemen dalam data. StemmerFactory dari pustaka Sastrawi digunakan untuk melakukan stemming (mengubah kata ke bentuk dasar) dalam teks berbahasa Indonesia. Terakhir, confusion_matrix, accuracy_score, dan classification_report dari sklearn.metrics digunakan untuk mengevaluasi performa model klasifikasi, termasuk akurasi dan metrik evaluasi lainnya."
   ]
  },
  {
   "cell_type": "code",
   "execution_count": 3,
   "id": "0fabfb75",
   "metadata": {},
   "outputs": [],
   "source": [
    "def extract_tags (notation_string: str) -> list:\n",
    "  if not isinstance(notation_string, str):\n",
    "    return []\n",
    "  \n",
    "  tokens = notation_string.strip().split(' ')\n",
    "  tags = [token.rsplit('/', 1)[-1] for token in tokens if '/' in token]\n",
    "  return tags"
   ]
  },
  {
   "cell_type": "markdown",
   "id": "4a06b1f4",
   "metadata": {},
   "source": [
    "Fungsi di atas bertujuan untuk mengekstrak tag dari sebuah string yang menggunakan format anotasi, di mana setiap token terdiri dari kata dan tag yang dipisahkan oleh karakter garis miring (/). Fungsi ini pertama-tama memeriksa apakah input bertipe string; jika tidak, ia mengembalikan list kosong. Jika valid, string dipangkas dari spasi di awal dan akhir, lalu dipisah berdasarkan spasi untuk mendapatkan token"
   ]
  },
  {
   "cell_type": "code",
   "execution_count": 4,
   "id": "7d8100c7",
   "metadata": {},
   "outputs": [],
   "source": [
    "def calculate_accuracy(reference_tags: list, comparison_tags: list) -> float:\n",
    "  total_tags = len(reference_tags)\n",
    "  if total_tags == 0 or len(reference_tags) != len(comparison_tags):\n",
    "    return 0.0\n",
    "  \n",
    "  correct_tags = sum(1 for ref_tag, comp_tag in zip(reference_tags, comparison_tags) if ref_tag == comp_tag)\n",
    "  return correct_tags/total_tags"
   ]
  },
  {
   "cell_type": "markdown",
   "id": "493f82e2",
   "metadata": {},
   "source": [
    "Fungsi di atas berguna untuk menghitung akurasi dengan membandingkan dua daftar tag reference_tags (sebagai acuan) dan comparison_tags"
   ]
  },
  {
   "cell_type": "code",
   "execution_count": 5,
   "id": "918b9a37",
   "metadata": {},
   "outputs": [
    {
     "name": "stdout",
     "output_type": "stream",
     "text": [
      "Berhasil membaca file\n"
     ]
    }
   ],
   "source": [
    "try:\n",
    "  df_before_preprocessing = pd.read_csv('./data/sebelum-preprocessing-dataset-pos-taging-notasi-gpt-stanza-manual.csv')\n",
    "  df_after_preprocessing = pd.read_csv('./data/sesudah-preprocessing-dataset-pos-taging-notasi-gpt-stanza-manual.csv')\n",
    "  print(\"Berhasil membaca file\")\n",
    "\n",
    "except FileNotFoundError:\n",
    "    print(\"ERROR: File tidak ditemukan!\")"
   ]
  },
  {
   "cell_type": "markdown",
   "id": "3387e0ab",
   "metadata": {},
   "source": [
    "Kode di atas mencoba membaca dua file CSV yaitu kode dataset post tagging sebelum dan sesudah post tagging dengan notasi gpt, stanza"
   ]
  },
  {
   "cell_type": "code",
   "execution_count": 6,
   "id": "b942d1e4",
   "metadata": {},
   "outputs": [],
   "source": [
    "df_before_preprocessing['manual_tags'] = df_before_preprocessing['manual'].apply(extract_tags)\n",
    "df_before_preprocessing['stanza_tags'] = df_before_preprocessing['stanza'].apply(extract_tags)\n",
    "df_before_preprocessing['gpt_tags'] = df_before_preprocessing['gpt'].apply(extract_tags)\n",
    "\n",
    "df_before_preprocessing['akurasi_stanza_sebelum_preprocessing'] = df_before_preprocessing.apply(lambda row: calculate_accuracy(row['manual_tags'], row['stanza_tags']), axis = 1)\n",
    "df_before_preprocessing['akurasi_gpt_sebelum_preprocessing'] = df_before_preprocessing.apply(lambda row: calculate_accuracy(row['manual_tags'], row['gpt_tags']), axis = 1)\n",
    "\n",
    "df_after_preprocessing['manual_tags'] = df_after_preprocessing['manual'].apply(extract_tags)\n",
    "df_after_preprocessing['stanza_tags'] = df_after_preprocessing['stanza'].apply(extract_tags)\n",
    "df_after_preprocessing['gpt_tags'] = df_after_preprocessing['gpt'].apply(extract_tags)\n",
    "\n",
    "df_after_preprocessing['akurasi_stanza_setelah_preprocessing'] = df_after_preprocessing.apply(lambda row: calculate_accuracy(row['manual_tags'], row['stanza_tags']), axis = 1)\n",
    "df_after_preprocessing['akurasi_gpt_setelah_preprocessing'] = df_after_preprocessing.apply(lambda row: calculate_accuracy(row['manual_tags'], row['gpt_tags']), axis = 1)\n",
    "\n",
    "results_before_preprocessing = df_before_preprocessing[['soal', 'akurasi_gpt_sebelum_preprocessing', 'akurasi_stanza_sebelum_preprocessing']]\n",
    "results_after_preprocessing = df_after_preprocessing[['soal', 'akurasi_gpt_setelah_preprocessing', 'akurasi_stanza_setelah_preprocessing']]\n",
    "\n",
    "final_results_accuracy = pd.merge(results_before_preprocessing, results_after_preprocessing, on='soal')"
   ]
  },
  {
   "cell_type": "markdown",
   "id": "8abc9785",
   "metadata": {},
   "source": [
    "Kode di atas menghitung akurasi tagging GPT dan Stanza dengan menggunakan anotasi manual sebagai ground truth, baik sebelum maupun sesudah preprocessing. "
   ]
  },
  {
   "cell_type": "code",
   "execution_count": 7,
   "id": "211738ed",
   "metadata": {},
   "outputs": [
    {
     "data": {
      "text/html": [
       "<div>\n",
       "<style scoped>\n",
       "    .dataframe tbody tr th:only-of-type {\n",
       "        vertical-align: middle;\n",
       "    }\n",
       "\n",
       "    .dataframe tbody tr th {\n",
       "        vertical-align: top;\n",
       "    }\n",
       "\n",
       "    .dataframe thead th {\n",
       "        text-align: right;\n",
       "    }\n",
       "</style>\n",
       "<table border=\"1\" class=\"dataframe\">\n",
       "  <thead>\n",
       "    <tr style=\"text-align: right;\">\n",
       "      <th></th>\n",
       "      <th>GPT (Sebelum)</th>\n",
       "      <th>Stanza (Sebelum)</th>\n",
       "      <th>GPT (Setelah)</th>\n",
       "      <th>Stanza (Setelah)</th>\n",
       "    </tr>\n",
       "  </thead>\n",
       "  <tbody>\n",
       "    <tr>\n",
       "      <th>0</th>\n",
       "      <td>90.91%</td>\n",
       "      <td>100.00%</td>\n",
       "      <td>100.00%</td>\n",
       "      <td>90.91%</td>\n",
       "    </tr>\n",
       "    <tr>\n",
       "      <th>1</th>\n",
       "      <td>72.73%</td>\n",
       "      <td>63.64%</td>\n",
       "      <td>72.73%</td>\n",
       "      <td>63.64%</td>\n",
       "    </tr>\n",
       "    <tr>\n",
       "      <th>2</th>\n",
       "      <td>63.64%</td>\n",
       "      <td>63.64%</td>\n",
       "      <td>63.64%</td>\n",
       "      <td>63.64%</td>\n",
       "    </tr>\n",
       "    <tr>\n",
       "      <th>3</th>\n",
       "      <td>64.29%</td>\n",
       "      <td>64.29%</td>\n",
       "      <td>64.29%</td>\n",
       "      <td>64.29%</td>\n",
       "    </tr>\n",
       "    <tr>\n",
       "      <th>4</th>\n",
       "      <td>73.33%</td>\n",
       "      <td>66.67%</td>\n",
       "      <td>73.33%</td>\n",
       "      <td>66.67%</td>\n",
       "    </tr>\n",
       "  </tbody>\n",
       "</table>\n",
       "</div>"
      ],
      "text/plain": [
       "  GPT (Sebelum) Stanza (Sebelum) GPT (Setelah) Stanza (Setelah)\n",
       "0        90.91%          100.00%       100.00%           90.91%\n",
       "1        72.73%           63.64%        72.73%           63.64%\n",
       "2        63.64%           63.64%        63.64%           63.64%\n",
       "3        64.29%           64.29%        64.29%           64.29%\n",
       "4        73.33%           66.67%        73.33%           66.67%"
      ]
     },
     "execution_count": 7,
     "metadata": {},
     "output_type": "execute_result"
    }
   ],
   "source": [
    "display_df = final_results_accuracy.head()[['akurasi_gpt_sebelum_preprocessing', 'akurasi_stanza_sebelum_preprocessing',\n",
    "    'akurasi_gpt_setelah_preprocessing', 'akurasi_stanza_setelah_preprocessing']].copy()\n",
    "\n",
    "for col in display_df.columns:\n",
    "  display_df[col] = display_df[col].apply(lambda x: f\"{x:.2%}\")\n",
    "\n",
    "display_df = display_df.rename(columns={\n",
    "        'akurasi_gpt_sebelum_preprocessing': 'GPT (Sebelum)',\n",
    "        'akurasi_stanza_sebelum_preprocessing': 'Stanza (Sebelum)', \n",
    "        'akurasi_gpt_setelah_preprocessing': 'GPT (Setelah)',\n",
    "        'akurasi_stanza_setelah_preprocessing': 'Stanza (Setelah)'\n",
    "    })\n",
    "\n",
    "display_df"
   ]
  },
  {
   "cell_type": "markdown",
   "id": "35f7aa85",
   "metadata": {},
   "source": [
    "Kode di atas menampilkan 5 baris pertama akurasi GPT dan Stanza sebelum dan sesudah preprocessing."
   ]
  },
  {
   "cell_type": "code",
   "execution_count": 8,
   "id": "7a5ad677",
   "metadata": {},
   "outputs": [
    {
     "name": "stdout",
     "output_type": "stream",
     "text": [
      "Rata-rata Akurasi GPT (Sebelum Preprocessing):   36.41%\n",
      "Rata-rata Akurasi Stanza (Sebelum Preprocessing): 39.63%\n",
      "--------------------------------------------------\n",
      "Rata-rata Akurasi GPT (Sesudah Preprocessing):60.34%\n",
      "Rata-rata Akurasi Stanza (Sesudah Preprocessing):  55.44%\n"
     ]
    }
   ],
   "source": [
    "avg_gpt_before_preprocessing = final_results_accuracy['akurasi_gpt_sebelum_preprocessing'].mean()\n",
    "avg_stanza_before_preprocessing = final_results_accuracy['akurasi_stanza_sebelum_preprocessing'].mean()\n",
    "avg_gpt_after_preprocessing = final_results_accuracy['akurasi_gpt_setelah_preprocessing'].mean()\n",
    "avg_stanza_after_preprocessing = final_results_accuracy['akurasi_stanza_setelah_preprocessing'].mean()\n",
    "\n",
    "print(f\"Rata-rata Akurasi GPT (Sebelum Preprocessing):   {avg_gpt_before_preprocessing:.2%}\")\n",
    "print(f\"Rata-rata Akurasi Stanza (Sebelum Preprocessing): {avg_stanza_before_preprocessing:.2%}\")\n",
    "print(\"-\" * 50)\n",
    "print(f\"Rata-rata Akurasi GPT (Sesudah Preprocessing):{avg_gpt_after_preprocessing:.2%}\")\n",
    "print(f\"Rata-rata Akurasi Stanza (Sesudah Preprocessing):  {avg_stanza_after_preprocessing:.2%}\")"
   ]
  },
  {
   "cell_type": "markdown",
   "id": "df7daaff",
   "metadata": {},
   "source": [
    "Kode di atas menghitung rata-rata akurasi GPT dan Stanza sebelum dan sesudah preprocessing"
   ]
  },
  {
   "cell_type": "code",
   "execution_count": 9,
   "id": "f2de20ad",
   "metadata": {},
   "outputs": [
    {
     "data": {
      "image/png": "[encoded data removed]",
      "text/plain": [
       "<Figure size 1000x700 with 1 Axes>"
      ]
     },
     "metadata": {},
     "output_type": "display_data"
    }
   ],
   "source": [
    "labels = ['Sebelum Preprocessing', 'Setelah Preprocessing']\n",
    "gpt_accuracy_means = [avg_gpt_before_preprocessing, avg_gpt_after_preprocessing]\n",
    "stanza_accuracy_means = [avg_stanza_before_preprocessing, avg_stanza_after_preprocessing]\n",
    "\n",
    "x = np.arange(len(labels))\n",
    "width = 0.35\n",
    "\n",
    "fig, ax = plt.subplots(figsize=(10, 7))\n",
    "rects1 = ax.bar(x - width/2, gpt_accuracy_means, label='GPT', color='skyblue')\n",
    "rects2 = ax.bar(x + width/2, stanza_accuracy_means, label='Stanza', color='lightcoral')\n",
    "\n",
    "ax.set_ylabel('Rata-rata Akurasi')\n",
    "ax.set_title('Perbandingan Akurasi GPT vs Stanza')\n",
    "ax.set_xticks(x)\n",
    "ax.set_xticklabels(labels)\n",
    "ax.legend()\n",
    "\n",
    "ax.bar_label(rects1, padding=3, fmt=lambda x: f'{x:.2%}', fontweight='bold')\n",
    "ax.bar_label(rects2, padding=3, fmt=lambda x: f'{x:.2%}', fontweight='bold')\n",
    "\n",
    "ax.set_ylim(0, max(max(gpt_accuracy_means), max(stanza_accuracy_means)) * 1.2)\n",
    "\n",
    "ax.yaxis.grid(True, linestyle='--', alpha=0.7)\n",
    "\n",
    "fig.tight_layout()\n",
    "plt.show()\n"
   ]
  },
  {
   "cell_type": "markdown",
   "id": "54633018",
   "metadata": {},
   "source": [
    "Kode di atas menampilkan grafik batang untuk membandingkan rata-rata akurasi GPT dan Stanza sebelum dan sesudah preprocessing"
   ]
  },
  {
   "cell_type": "code",
   "execution_count": 10,
   "id": "8c904346",
   "metadata": {},
   "outputs": [],
   "source": [
    "def extract_verb(notation_string: str) -> list:\n",
    "  if not isinstance(notation_string, str):\n",
    "    return []\n",
    "  \n",
    "  verb_find = []\n",
    "  tokens = notation_string.strip().split(' ')\n",
    "\n",
    "  for token in tokens:\n",
    "    if '/' in token:\n",
    "      parts = token.rsplit('/', 1)\n",
    "      if len(parts) == 2:\n",
    "        word, tag = parts\n",
    "        if  tag.startswith('V'):\n",
    "          verb_find.append(word)\n",
    "  \n",
    "  return verb_find"
   ]
  },
  {
   "cell_type": "markdown",
   "id": "f6e56b18",
   "metadata": {},
   "source": [
    "Fungsi di atas mengekstrak kata kerja dari string berformat kata/tag dengan mencari token yang tag-nya diawali huruf 'V'. Jika ditemukan, katanya dimasukkan ke dalam list dan dikembalikan. Jika input bukan string, hasilnya list kosong."
   ]
  },
  {
   "cell_type": "code",
   "execution_count": 11,
   "id": "bafd0c09",
   "metadata": {},
   "outputs": [
    {
     "name": "stdout",
     "output_type": "stream",
     "text": [
      "Berhasil membaca file\n"
     ]
    }
   ],
   "source": [
    "try:\n",
    "  df_full_notation = pd.read_csv('./data/dataset-post-taging-dan-taksnomi-bloom.csv')\n",
    "  print(f\"Berhasil membaca file\")\n",
    "except FileNotFoundError:\n",
    "  print(\"ERROR: File tidak ditemukan!\")"
   ]
  },
  {
   "cell_type": "markdown",
   "id": "710dc7ff",
   "metadata": {},
   "source": [
    "Kode di atas membaca dataset dari post tagging dan taksonomi bloom. Jika berhasil, akan menampilkan pesan \"Berhasil membaca file\", dan jika file tidak ditemukan, akan menampilkan \"ERROR: File tidak ditemukan!\"."
   ]
  },
  {
   "cell_type": "code",
   "execution_count": 12,
   "id": "edf03a8a",
   "metadata": {},
   "outputs": [
    {
     "data": {
      "text/html": [
       "<div>\n",
       "<style scoped>\n",
       "    .dataframe tbody tr th:only-of-type {\n",
       "        vertical-align: middle;\n",
       "    }\n",
       "\n",
       "    .dataframe tbody tr th {\n",
       "        vertical-align: top;\n",
       "    }\n",
       "\n",
       "    .dataframe thead th {\n",
       "        text-align: right;\n",
       "    }\n",
       "</style>\n",
       "<table border=\"1\" class=\"dataframe\">\n",
       "  <thead>\n",
       "    <tr style=\"text-align: right;\">\n",
       "      <th></th>\n",
       "      <th>soal</th>\n",
       "      <th>list_verb</th>\n",
       "      <th>level</th>\n",
       "      <th>taksonomi_bloom</th>\n",
       "    </tr>\n",
       "  </thead>\n",
       "  <tbody>\n",
       "    <tr>\n",
       "      <th>0</th>\n",
       "      <td>Bagian dari bidang biologi yang membutuhkan pe...</td>\n",
       "      <td>[membutuhkan]</td>\n",
       "      <td>3</td>\n",
       "      <td>C1-Mengingat</td>\n",
       "    </tr>\n",
       "    <tr>\n",
       "      <th>1</th>\n",
       "      <td>Dalam studi biologi, penggunaan mikroskop dipe...</td>\n",
       "      <td>[diperlukan, mempelajari]</td>\n",
       "      <td>1</td>\n",
       "      <td>C1-Mengingat</td>\n",
       "    </tr>\n",
       "    <tr>\n",
       "      <th>2</th>\n",
       "      <td>Ilmu biologi yang membutuhkan penggunaan mikro...</td>\n",
       "      <td>[membutuhkan, mengkaji]</td>\n",
       "      <td>3</td>\n",
       "      <td>C1-Mengingat</td>\n",
       "    </tr>\n",
       "    <tr>\n",
       "      <th>3</th>\n",
       "      <td>Cabang biologi yang mendorong peneliti untuk m...</td>\n",
       "      <td>[mendorong, menghasilkan]</td>\n",
       "      <td>2</td>\n",
       "      <td>C2-Memahami</td>\n",
       "    </tr>\n",
       "    <tr>\n",
       "      <th>4</th>\n",
       "      <td>Cabang ilmu biologi yang menjadi dasar bagi pe...</td>\n",
       "      <td>[menjadi, mengembangkan]</td>\n",
       "      <td>2</td>\n",
       "      <td>C2-Memahami</td>\n",
       "    </tr>\n",
       "  </tbody>\n",
       "</table>\n",
       "</div>"
      ],
      "text/plain": [
       "                                                soal  \\\n",
       "0  Bagian dari bidang biologi yang membutuhkan pe...   \n",
       "1  Dalam studi biologi, penggunaan mikroskop dipe...   \n",
       "2  Ilmu biologi yang membutuhkan penggunaan mikro...   \n",
       "3  Cabang biologi yang mendorong peneliti untuk m...   \n",
       "4  Cabang ilmu biologi yang menjadi dasar bagi pe...   \n",
       "\n",
       "                   list_verb  level taksonomi_bloom  \n",
       "0              [membutuhkan]      3    C1-Mengingat  \n",
       "1  [diperlukan, mempelajari]      1    C1-Mengingat  \n",
       "2    [membutuhkan, mengkaji]      3    C1-Mengingat  \n",
       "3  [mendorong, menghasilkan]      2     C2-Memahami  \n",
       "4   [menjadi, mengembangkan]      2     C2-Memahami  "
      ]
     },
     "execution_count": 12,
     "metadata": {},
     "output_type": "execute_result"
    }
   ],
   "source": [
    "df_full_notation['list_verb'] = df_full_notation['gpt'].apply(extract_verb)\n",
    "df_display = ['soal', 'list_verb', 'level', 'taksonomi_bloom']\n",
    "df_full_notation = df_full_notation[df_display]\n",
    "df_full_notation.head()"
   ]
  },
  {
   "cell_type": "markdown",
   "id": "fa866a1f",
   "metadata": {},
   "source": [
    "Kode di atas berguna untuk mengekstrak kata kerja dari kolom gpt dalam dataset, lalu menampilkannya bersama informasi soal, level, dan taksonomi_bloom. Tujuannya adalah untuk menganalisis keterkaitan antara kata kerja dalam soal dengan level kognitif berdasarkan Taksonomi Bloom, sehingga dapat membantu dalam klasifikasi atau evaluasi kualitas soal."
   ]
  },
  {
   "cell_type": "code",
   "execution_count": 13,
   "id": "339578b9",
   "metadata": {},
   "outputs": [
    {
     "name": "stdout",
     "output_type": "stream",
     "text": [
      "Berhasil membuat stemmer Sastrawi\n"
     ]
    }
   ],
   "source": [
    "try:\n",
    "  factory = StemmerFactory()\n",
    "  stemmer = factory.create_stemmer()\n",
    "  print(\"Berhasil membuat stemmer Sastrawi\")\n",
    "except NameError:\n",
    "  print(\"ERROR: Sastrawi library tidak ditemukan!\")"
   ]
  },
  {
   "cell_type": "markdown",
   "id": "213f3cba",
   "metadata": {},
   "source": [
    "Kode di atas mencoba membuat variabel stemmer, yang digunakan untuk stemming (mengubah kata berimbuhan menjadi bentuk dasar) dalam Bahasa Indonesia. "
   ]
  },
  {
   "cell_type": "code",
   "execution_count": 14,
   "id": "d0767200",
   "metadata": {},
   "outputs": [],
   "source": [
    "def stem_list_verb(list_verb: list):\n",
    "  if not isinstance(list_verb, list):\n",
    "    return []\n",
    "  return [stemmer.stem(verb) for verb in list_verb]\n"
   ]
  },
  {
   "cell_type": "markdown",
   "id": "f617a53e",
   "metadata": {},
   "source": [
    "Fungsi di atas digunakan untuk melakukan stemming terhadap daftar kata kerja. Jika input bukan list, fungsi mengembalikan list kosong. Jika valid, setiap kata dalam list akan diproses menggunakan stemmer Sastrawi untuk diubah ke bentuk dasarnya, lalu hasilnya dikembalikan sebagai list baru."
   ]
  },
  {
   "cell_type": "code",
   "execution_count": 15,
   "id": "3775aecd",
   "metadata": {},
   "outputs": [
    {
     "data": {
      "text/html": [
       "<div>\n",
       "<style scoped>\n",
       "    .dataframe tbody tr th:only-of-type {\n",
       "        vertical-align: middle;\n",
       "    }\n",
       "\n",
       "    .dataframe tbody tr th {\n",
       "        vertical-align: top;\n",
       "    }\n",
       "\n",
       "    .dataframe thead th {\n",
       "        text-align: right;\n",
       "    }\n",
       "</style>\n",
       "<table border=\"1\" class=\"dataframe\">\n",
       "  <thead>\n",
       "    <tr style=\"text-align: right;\">\n",
       "      <th></th>\n",
       "      <th>soal</th>\n",
       "      <th>list_verb</th>\n",
       "      <th>list_verb_stemmed</th>\n",
       "      <th>level</th>\n",
       "      <th>taksonomi_bloom</th>\n",
       "    </tr>\n",
       "  </thead>\n",
       "  <tbody>\n",
       "    <tr>\n",
       "      <th>0</th>\n",
       "      <td>Bagian dari bidang biologi yang membutuhkan pe...</td>\n",
       "      <td>[membutuhkan]</td>\n",
       "      <td>[butuh]</td>\n",
       "      <td>3</td>\n",
       "      <td>C1-Mengingat</td>\n",
       "    </tr>\n",
       "    <tr>\n",
       "      <th>1</th>\n",
       "      <td>Dalam studi biologi, penggunaan mikroskop dipe...</td>\n",
       "      <td>[diperlukan, mempelajari]</td>\n",
       "      <td>[perlu, ajar]</td>\n",
       "      <td>1</td>\n",
       "      <td>C1-Mengingat</td>\n",
       "    </tr>\n",
       "    <tr>\n",
       "      <th>2</th>\n",
       "      <td>Ilmu biologi yang membutuhkan penggunaan mikro...</td>\n",
       "      <td>[membutuhkan, mengkaji]</td>\n",
       "      <td>[butuh, kaji]</td>\n",
       "      <td>3</td>\n",
       "      <td>C1-Mengingat</td>\n",
       "    </tr>\n",
       "    <tr>\n",
       "      <th>3</th>\n",
       "      <td>Cabang biologi yang mendorong peneliti untuk m...</td>\n",
       "      <td>[mendorong, menghasilkan]</td>\n",
       "      <td>[dorong, hasil]</td>\n",
       "      <td>2</td>\n",
       "      <td>C2-Memahami</td>\n",
       "    </tr>\n",
       "    <tr>\n",
       "      <th>4</th>\n",
       "      <td>Cabang ilmu biologi yang menjadi dasar bagi pe...</td>\n",
       "      <td>[menjadi, mengembangkan]</td>\n",
       "      <td>[jadi, kembang]</td>\n",
       "      <td>2</td>\n",
       "      <td>C2-Memahami</td>\n",
       "    </tr>\n",
       "  </tbody>\n",
       "</table>\n",
       "</div>"
      ],
      "text/plain": [
       "                                                soal  \\\n",
       "0  Bagian dari bidang biologi yang membutuhkan pe...   \n",
       "1  Dalam studi biologi, penggunaan mikroskop dipe...   \n",
       "2  Ilmu biologi yang membutuhkan penggunaan mikro...   \n",
       "3  Cabang biologi yang mendorong peneliti untuk m...   \n",
       "4  Cabang ilmu biologi yang menjadi dasar bagi pe...   \n",
       "\n",
       "                   list_verb list_verb_stemmed  level taksonomi_bloom  \n",
       "0              [membutuhkan]           [butuh]      3    C1-Mengingat  \n",
       "1  [diperlukan, mempelajari]     [perlu, ajar]      1    C1-Mengingat  \n",
       "2    [membutuhkan, mengkaji]     [butuh, kaji]      3    C1-Mengingat  \n",
       "3  [mendorong, menghasilkan]   [dorong, hasil]      2     C2-Memahami  \n",
       "4   [menjadi, mengembangkan]   [jadi, kembang]      2     C2-Memahami  "
      ]
     },
     "execution_count": 15,
     "metadata": {},
     "output_type": "execute_result"
    }
   ],
   "source": [
    "df_full_notation['list_verb_stemmed'] = df_full_notation['list_verb'].apply(stem_list_verb)\n",
    "df_full_notation[['soal', 'list_verb', 'list_verb_stemmed', 'level', 'taksonomi_bloom']].head()"
   ]
  },
  {
   "cell_type": "markdown",
   "id": "3dfacb5e",
   "metadata": {},
   "source": [
    "Kode di atas menambahkan kolom list_verb_stemmed ke dalam DataFrame df_full_notation dengan menerapkan fungsi stem_list_verb pada kolom list_verb. Tujuannya adalah mengubah setiap kata kerja menjadi bentuk dasar menggunakan stemmer Sastrawi. "
   ]
  },
  {
   "cell_type": "code",
   "execution_count": 16,
   "id": "e1625f97",
   "metadata": {},
   "outputs": [
    {
     "name": "stdout",
     "output_type": "stream",
     "text": [
      "Contoh hasil stemming C1  : ['kutip', 'sebut', 'jelas']\n",
      "Contoh hasil stemming C2  : ['kira', 'jelas', 'kategori']\n",
      "Contoh hasil stemming C3  : ['tugas', 'urut', 'tentu']\n",
      "Contoh hasil stemming C4  : ['analis', 'audit', 'pecah']\n",
      "Contoh hasil stemming C5  : ['banding', 'simpul', 'nilai']\n",
      "Contoh hasil stemming C6  : ['bangun', 'abstraksi', 'atur']\n"
     ]
    }
   ],
   "source": [
    "bloom_keywords = {\n",
    "    \"C1\": [\"mengutip\", \"menyebutkan\", \"menjelaskan\", \"menggambar\", \"membilang\", \"mengidentifikasi\", \"mendaftar\", \"menunjukkan\", \"memberi label\", \"memberi indeks\", \"memasangkan\", \"menamai\", \"menandai\", \"membaca\", \"menyadari\", \"menghafal\", \"meniru\", \"mencatat\", \"mengulang\", \"mereproduksi\", \"meninjau\", \"memilih\", \"menyatakan\", \"mempelajari\", \"mentabulasi\", \"memberi kode\", \"menelusuri\", \"menulis\", \"mengenal\", \"melihat\", \"menyimpan\", \"mengisi\", \"memperhatikan\"],\n",
    "    \"C2\": [\"memperkirakan\", \"menjelaskan\", \"mengkategorikan\", \"mencirikan\", \"merinci\", \"mengasosiasikan\", \"membandingkan\", \"menghitung\", \"mengubah\", \"mempertahankan\", \"menguraikan\", \"menjalin\", \"membedakan\", \"mendiskusikan\", \"mencontohkan\", \"mengemukakan\", \"mempolakan\", \"memperluas\", \"menyimpulkan\", \"meramalkan\", \"merangkum\", \"menjabarkan\", \"mengartikan\", \"membahas\", \"mengelompokkan\", \"memberi\", \"mengisahkan\", \"menceritakan\", \"menyerap\"],\n",
    "    \"C3\": [\"menugaskan\", \"mengurutkan\", \"menentukan\", \"menerapkan\", \"menyesuaikan\", \"mengkalkulasi\", \"memodifikasi\", \"mengklasifikasi\", \"menghitung\", \"membangun\", \"membiasakan\", \"mencegah\", \"menentukan\", \"menggambarkan\", \"menggunakan\", \"menilai\", \"melatih\", \"menggali\", \"mengemukakan\", \"mengkonsultasi\", \"memecahkan\", \"melakukan\", \"mentabulasi\", \"mempersoalkan\", \"melaksanakan\", \"mengerjakan\", \"memfungsikan\", \"menanggulangi\"],\n",
    "    \"C4\": [\"menganalisis\", \"mengaudit\", \"memecahkan\", \"menegaskan\", \"mendeteksi\", \"mendiagnosis\", \"menyeleksi\", \"merinci\", \"menominasikan\", \"mendiagramkan\", \"megkorelasikan\", \"menguji\", \"mencerahkan\", \"menjelajah\", \"membagankan\", \"menyimpulkan\", \"menemukan\", \"menelaah\", \"memaksimalkan\", \"memerintahkan\", \"mengedit\", \"mengaitkan\", \"memilih\", \"mengukur\", \"menghubungkan\", \"mengkaji\", \"membatasi\"],\n",
    "    \"C5\": [\"membandingkan\", \"menyimpulkan\", \"menilai\", \"mengarahkan\", \"mengkritik\", \"menimbang\", \"memutuskan\", \"memisahkan\", \"memprediksi\", \"memperjelas\", \"menugaskan\", \"menafsirkan\", \"mempertahankan\", \"memerinci\", \"mengukur\", \"merangking\", \"membuktikan\", \"memvalidasi\", \"mendukung\", \"memilih\", \"proyeksi\", \"menganggap\"],\n",
    "    \"C6\": [\"membangun\", \"mengabstraksikan\", \"mengatur\", \"menganimasi\", \"mengumpulkan\", \"mengkategorikan\", \"mengkombinasikan\", \"menyusun\", \"mengarang\", \"menciptakan\", \"mendesain\", \"mengembangkan\", \"merumuskan\", \"memimpin\", \"mengelola\", \"mengorganisir\", \"merencanakan\", \"mempersiapkan\", \"memproduksi\", \"mengusulkan\", \"merancang\", \"merekonstruksi\", \"membuat\", \"membentuk\"]\n",
    "}\n",
    "\n",
    "bloom_keywords_stemmed = {}\n",
    "for level, keywords in bloom_keywords.items():\n",
    "  stemmed_list = [stemmer.stem(word) for word in keywords]\n",
    "  bloom_keywords_stemmed[level] = stemmed_list\n",
    "\n",
    "print(f\"Contoh hasil stemming C1  : {bloom_keywords_stemmed['C1'][:3]}\")\n",
    "print(f\"Contoh hasil stemming C2  : {bloom_keywords_stemmed['C2'][:3]}\")\n",
    "print(f\"Contoh hasil stemming C3  : {bloom_keywords_stemmed['C3'][:3]}\")\n",
    "print(f\"Contoh hasil stemming C4  : {bloom_keywords_stemmed['C4'][:3]}\")\n",
    "print(f\"Contoh hasil stemming C5  : {bloom_keywords_stemmed['C5'][:3]}\")\n",
    "print(f\"Contoh hasil stemming C6  : {bloom_keywords_stemmed['C6'][:3]}\")\n"
   ]
  },
  {
   "cell_type": "markdown",
   "id": "417582c8",
   "metadata": {},
   "source": [
    "Kode di atas melakukan proses stemming terhadap daftar kata kerja dari setiap level taksonomi Bloom (C1 hingga C6) menggunakan stemmer Sastrawi. Setiap kata kerja dari bloom_keywords diubah ke bentuk dasarnya dan disimpan dalam dictionary bloom_keywords_stemmed sesuai levelnya. Ini berguna untuk mempermudah pencocokan kata kerja dalam bentuk dasar dengan daftar kata kerja dari soal atau teks, sehingga bisa mengklasifikasikan level kognitif berdasarkan kemunculan kata kerja tertentu. Hasil stemming dari beberapa kata di setiap level ditampilkan."
   ]
  },
  {
   "cell_type": "code",
   "execution_count": 17,
   "id": "6c2618f0",
   "metadata": {},
   "outputs": [],
   "source": [
    "def classification_taksonomi_by_verb(list_verb_stemmed: list, kamus_bloom_stemmed: dict) -> str:\n",
    "  if not list_verb_stemmed:\n",
    "    return \"Tidak Terklasifikasi\"\n",
    "  \n",
    "  set_verb_soal = set(list_verb_stemmed)\n",
    "  score_compatibility = {}\n",
    "  for level, list_keyword in kamus_bloom_stemmed.items():\n",
    "    set_keyword_bloom = set(list_keyword)\n",
    "    total_compatibility = len(set_verb_soal.intersection(set_keyword_bloom))\n",
    "    score_compatibility[level] = total_compatibility\n",
    "  \n",
    "  if max(score_compatibility.values()) == 0:\n",
    "    return \"Tidak Terklasifikasi\"\n",
    "  \n",
    "  max_score_compatibility = max(score_compatibility.values())\n",
    "  best_level = [level for level, score in score_compatibility.items() if score == max_score_compatibility]\n",
    "  final_prediction = sorted(best_level)[-1]\n",
    "\n",
    "  return final_prediction"
   ]
  },
  {
   "cell_type": "markdown",
   "id": "20a6e514",
   "metadata": {},
   "source": [
    "Fungsi di atas digunakan untuk menentukan level taksonomi Bloom C1 sampai C6 dari suatu soal berdasarkan daftar kata kerja yang telah distemming. Fungsi ini bekerja dengan membandingkan kata kerja dari soal (list_verb_stemmed) dengan kamus kata kerja Bloom yang sudah distem (kamus_bloom_stemmed)"
   ]
  },
  {
   "cell_type": "code",
   "execution_count": 18,
   "id": "6c385943",
   "metadata": {},
   "outputs": [
    {
     "data": {
      "text/html": [
       "<div>\n",
       "<style scoped>\n",
       "    .dataframe tbody tr th:only-of-type {\n",
       "        vertical-align: middle;\n",
       "    }\n",
       "\n",
       "    .dataframe tbody tr th {\n",
       "        vertical-align: top;\n",
       "    }\n",
       "\n",
       "    .dataframe thead th {\n",
       "        text-align: right;\n",
       "    }\n",
       "</style>\n",
       "<table border=\"1\" class=\"dataframe\">\n",
       "  <thead>\n",
       "    <tr style=\"text-align: right;\">\n",
       "      <th></th>\n",
       "      <th>soal</th>\n",
       "      <th>list_verb_stemmed</th>\n",
       "      <th>prediction_taksonomi_bloom</th>\n",
       "      <th>ground_truth_taksonomi_bloom</th>\n",
       "    </tr>\n",
       "  </thead>\n",
       "  <tbody>\n",
       "    <tr>\n",
       "      <th>0</th>\n",
       "      <td>Bagian dari bidang biologi yang membutuhkan pe...</td>\n",
       "      <td>[butuh]</td>\n",
       "      <td>Tidak Terklasifikasi</td>\n",
       "      <td>C1</td>\n",
       "    </tr>\n",
       "    <tr>\n",
       "      <th>1</th>\n",
       "      <td>Dalam studi biologi, penggunaan mikroskop dipe...</td>\n",
       "      <td>[perlu, ajar]</td>\n",
       "      <td>C1</td>\n",
       "      <td>C1</td>\n",
       "    </tr>\n",
       "    <tr>\n",
       "      <th>2</th>\n",
       "      <td>Ilmu biologi yang membutuhkan penggunaan mikro...</td>\n",
       "      <td>[butuh, kaji]</td>\n",
       "      <td>C4</td>\n",
       "      <td>C1</td>\n",
       "    </tr>\n",
       "    <tr>\n",
       "      <th>3</th>\n",
       "      <td>Cabang biologi yang mendorong peneliti untuk m...</td>\n",
       "      <td>[dorong, hasil]</td>\n",
       "      <td>Tidak Terklasifikasi</td>\n",
       "      <td>C2</td>\n",
       "    </tr>\n",
       "    <tr>\n",
       "      <th>4</th>\n",
       "      <td>Cabang ilmu biologi yang menjadi dasar bagi pe...</td>\n",
       "      <td>[jadi, kembang]</td>\n",
       "      <td>C6</td>\n",
       "      <td>C2</td>\n",
       "    </tr>\n",
       "  </tbody>\n",
       "</table>\n",
       "</div>"
      ],
      "text/plain": [
       "                                                soal list_verb_stemmed  \\\n",
       "0  Bagian dari bidang biologi yang membutuhkan pe...           [butuh]   \n",
       "1  Dalam studi biologi, penggunaan mikroskop dipe...     [perlu, ajar]   \n",
       "2  Ilmu biologi yang membutuhkan penggunaan mikro...     [butuh, kaji]   \n",
       "3  Cabang biologi yang mendorong peneliti untuk m...   [dorong, hasil]   \n",
       "4  Cabang ilmu biologi yang menjadi dasar bagi pe...   [jadi, kembang]   \n",
       "\n",
       "  prediction_taksonomi_bloom ground_truth_taksonomi_bloom  \n",
       "0       Tidak Terklasifikasi                           C1  \n",
       "1                         C1                           C1  \n",
       "2                         C4                           C1  \n",
       "3       Tidak Terklasifikasi                           C2  \n",
       "4                         C6                           C2  "
      ]
     },
     "execution_count": 18,
     "metadata": {},
     "output_type": "execute_result"
    }
   ],
   "source": [
    "df_full_notation['prediction_taksonomi_bloom'] = df_full_notation['list_verb_stemmed'].apply(\n",
    "      lambda x: classification_taksonomi_by_verb(x, bloom_keywords_stemmed)\n",
    "    )\n",
    "\n",
    "df_full_notation['ground_truth_taksonomi_bloom'] = df_full_notation['taksonomi_bloom'].str.split('-').str[0]\n",
    "df_full_notation[['soal', 'list_verb_stemmed', 'prediction_taksonomi_bloom', 'ground_truth_taksonomi_bloom']].head()"
   ]
  },
  {
   "cell_type": "markdown",
   "id": "9f73e655",
   "metadata": {},
   "source": [
    "Kode tersebut digunakan untuk melakukan klasifikasi level taksonomi Bloom pada setiap soal berdasarkan kata kerja hasil stemming, serta membandingkan hasil prediksi dengan label ground truth"
   ]
  },
  {
   "cell_type": "code",
   "execution_count": 19,
   "id": "db2d8bf1",
   "metadata": {},
   "outputs": [
    {
     "name": "stdout",
     "output_type": "stream",
     "text": [
      "Akurasi Keseluruhan: 20.20%\n",
      "\n"
     ]
    }
   ],
   "source": [
    "eval_df = df_full_notation[df_full_notation['prediction_taksonomi_bloom'] != 'Tidak Terklasifikasi']\n",
    "accuracy = accuracy_score(eval_df['ground_truth_taksonomi_bloom'], eval_df['prediction_taksonomi_bloom'])\n",
    "print(f\"Akurasi Keseluruhan: {accuracy:.2%}\\n\")"
   ]
  },
  {
   "cell_type": "markdown",
   "id": "d91311d1",
   "metadata": {},
   "source": [
    "Kode di atas digunakan untuk menghitung akurasi dari hasil prediksi klasifikasi taksonomi Bloom berdasarkan kata kerja yang telah distemming"
   ]
  },
  {
   "cell_type": "code",
   "execution_count": 20,
   "id": "32be5c50",
   "metadata": {},
   "outputs": [
    {
     "name": "stdout",
     "output_type": "stream",
     "text": [
      "              precision    recall  f1-score   support\n",
      "\n",
      "          C1       0.75      0.25      0.37        61\n",
      "          C2       0.45      0.15      0.23        33\n",
      "          C3       0.00      0.00      0.00         0\n",
      "          C4       0.00      0.00      0.00         3\n",
      "          C5       0.00      0.00      0.00         2\n",
      "          C6       0.00      0.00      0.00         0\n",
      "\n",
      "    accuracy                           0.20        99\n",
      "   macro avg       0.20      0.07      0.10        99\n",
      "weighted avg       0.61      0.20      0.30        99\n",
      "\n"
     ]
    }
   ],
   "source": [
    "all_labels = sorted(list(set(eval_df['ground_truth_taksonomi_bloom']) | set(eval_df['prediction_taksonomi_bloom'])))\n",
    "print(classification_report(\n",
    "    eval_df['ground_truth_taksonomi_bloom'], \n",
    "    eval_df['prediction_taksonomi_bloom'], \n",
    "    labels=all_labels, \n",
    "    zero_division=0\n",
    "))"
   ]
  },
  {
   "cell_type": "markdown",
   "id": "cae66bf8",
   "metadata": {},
   "source": [
    "Kode di atas digunakan untuk menampilkan precision, recall, f1-score, dan support dari klasifikasi taksonomi Bloom berdasarkan hasil prediksi dan label sebenarnya"
   ]
  },
  {
   "cell_type": "code",
   "execution_count": 21,
   "id": "8fd27f17",
   "metadata": {},
   "outputs": [
    {
     "data": {
      "image/png": "[encoded data removed]",
      "text/plain": [
       "<Figure size 1000x800 with 2 Axes>"
      ]
     },
     "metadata": {},
     "output_type": "display_data"
    }
   ],
   "source": [
    "cm = confusion_matrix(\n",
    "    eval_df['ground_truth_taksonomi_bloom'], \n",
    "    eval_df['prediction_taksonomi_bloom'], \n",
    "    labels=all_labels\n",
    ")\n",
    "cm_df = pd.DataFrame(cm, index=all_labels, columns=all_labels)\n",
    "plt.figure(figsize=(10, 8))\n",
    "sns.heatmap(cm_df, annot=True, fmt='g', cmap='Blues')\n",
    "plt.title('Confusion Matrix')\n",
    "plt.ylabel('(Ground Truth)')\n",
    "plt.xlabel('Taksonomi Hasil Prediksi')\n",
    "plt.show()"
   ]
  },
  {
   "cell_type": "markdown",
   "id": "e5caee89",
   "metadata": {},
   "source": [
    "Kode di atas berfungsi untuk menampilkan confusion matrix dari hasil klasifikasi taksonomi Bloom. Pertama, confusion_matrix dari scikit-learn digunakan untuk menghitung jumlah prediksi yang benar dan salah untuk setiap label berdasarkan data ground truth dan prediksi. Confusion matrix tersebut menunjukkan performa model dalam mengklasifikasikan soal berdasarkan taksonomi Bloom C1 sampai C6, di mana baris merepresentasikan ground truth dan kolom merepresentasikan label hasil prediksi. Nilai diagonal (seperti C1 ke C1 sebanyak 15 dan C2 ke C2 sebanyak 5) menunjukkan prediksi yang benar, sedangkan nilai di luar diagonal menunjukkan kesalahan prediksi. Terlihat bahwa model sering salah mengklasifikasikan soal C1 dan C2 menjadi C3 (masing-masing sebanyak 18 dan 11 soal), menunjukkan adanya kecenderungan over-prediction pada label C3. Selain itu, model tidak mampu mengenali label C3 dengan benar sama sekali (semua nilai pada baris C3 adalah nol), dan hanya sedikit soal dari C4 dan C5 yang diprediksi dengan benar. "
   ]
  },
  {
   "cell_type": "code",
   "execution_count": 22,
   "id": "0ecc58bb",
   "metadata": {},
   "outputs": [
    {
     "name": "stdout",
     "output_type": "stream",
     "text": [
      "adalah    61\n",
      "masuk     10\n",
      "milik      9\n",
      "sebab      8\n",
      "hasil      7\n"
     ]
    }
   ],
   "source": [
    "df_failed_classified = df_full_notation[df_full_notation['prediction_taksonomi_bloom'] == 'Tidak Terklasifikasi'].copy()\n",
    "if not df_failed_classified.empty:\n",
    "    all_verb_failed = [verb for list_verb in df_failed_classified['list_verb_stemmed'] for verb in list_verb]\n",
    "    verb_frequency = pd.Series(all_verb_failed).value_counts()\n",
    "    print(verb_frequency.head().to_string())\n",
    "else:\n",
    "    print(\"Tidak ada soal yang tidak terklasifikasi.\")\n"
   ]
  },
  {
   "cell_type": "markdown",
   "id": "2e940674",
   "metadata": {},
   "source": [
    "Kode di atas digunakan untuk menganalisis soal-soal yang tidak berhasil dipetakan ke dalam taksonomi Bloom. Hasilnya menunjukkan bahwa kata-kata seperti adalah muncul sebanyak 61 kali, masuk 10 kali, milik 9 kali, sebab 8 kali, dan hasil sebanyak 7 kali. Kata kata itu merupakan kata yang sering muncul pada soal yang gagal diklasifikasikan"
   ]
  },
  {
   "cell_type": "code",
   "execution_count": 23,
   "id": "e1e44723",
   "metadata": {},
   "outputs": [],
   "source": [
    "verbs_by_level = df_full_notation.groupby('level')['list_verb_stemmed'].sum()"
   ]
  },
  {
   "cell_type": "markdown",
   "id": "6ff636c5",
   "metadata": {},
   "source": [
    "Kode di atas berfungsi untuk mengelompokkan data berdasarkan kolom level yaitu level taksonomi Bloom seperti C1 sampai C6, kemudian menjumlahkan  semua daftar kata kerja hasil stemming dari setiap kelompok. K"
   ]
  },
  {
   "cell_type": "code",
   "execution_count": 24,
   "id": "bd449166",
   "metadata": {},
   "outputs": [],
   "source": [
    "def analyze_level_profile(verbs_list, bloom_dict):\n",
    "    if not verbs_list: return {}\n",
    "    unique_verbs_in_level = set(verbs_list)\n",
    "    total_unique_verbs = len(unique_verbs_in_level)\n",
    "    if total_unique_verbs == 0: return {}\n",
    "    \n",
    "    distribution = {}\n",
    "    for bloom_level, bloom_keywords in bloom_dict.items():\n",
    "        bloom_keywords_set = set(bloom_keywords)\n",
    "        matches = len(unique_verbs_in_level.intersection(bloom_keywords_set))\n",
    "        percentage = (matches / total_unique_verbs) * 100\n",
    "        distribution[bloom_level] = percentage\n",
    "    return distribution"
   ]
  },
  {
   "cell_type": "markdown",
   "id": "d255cf7c",
   "metadata": {},
   "source": [
    "Kode di atas berfungsi untuk menghitung distribusi persentase kecocokan kata kerja terhadap setiap level dalam taksonomi Bloom berdasarkan kamus kata kunci yang telah distemming. Fungsi ini membandingkan kata kerja unik yang diberikan dengan daftar kata kunci dari masing-masing level Bloom, lalu menghitung berapa persen kata kerja tersebut cocok dengan setiap level. Hasilnya berupa dictionary yang menunjukkan tingkat kesesuaian kata kerja terhadap tiap level C1 sampai C6 dalam bentuk persentase."
   ]
  },
  {
   "cell_type": "code",
   "execution_count": 27,
   "id": "f96de59d",
   "metadata": {},
   "outputs": [
    {
     "data": {
      "image/png": "[encoded data removed]",
      "text/plain": [
       "<Figure size 1400x800 with 1 Axes>"
      ]
     },
     "metadata": {},
     "output_type": "display_data"
    }
   ],
   "source": [
    "results_for_plotting = {}\n",
    "for level, all_verbs in verbs_by_level.items():\n",
    "    if all_verbs:\n",
    "        bloom_distribution = analyze_level_profile(all_verbs, bloom_keywords_stemmed)\n",
    "        # Simpan hasil distribusi ke dictionary utama\n",
    "        results_for_plotting[f'Level {level}'] = bloom_distribution\n",
    "\n",
    "plot_df = pd.DataFrame(results_for_plotting).sort_index()\n",
    "\n",
    "# Membuat plot\n",
    "if not plot_df.empty:\n",
    "    plot_df.plot(\n",
    "        kind='bar',\n",
    "        figsize=(14, 8),\n",
    "        width=0.8,\n",
    "        edgecolor='black'\n",
    "    )\n",
    "    \n",
    "    plt.title('Distribusi Kata Kerja per Level Soal pada Taksonomi Bloom', fontsize=18, pad=20)\n",
    "    plt.ylabel('% Kecocokan Kata Kerja Unik', fontsize=12)\n",
    "    plt.xlabel('Level Kognitif Taksonomi Bloom', fontsize=12)\n",
    "    plt.xticks(rotation=0) # Agar label C1, C2, dst. tidak miring\n",
    "    plt.grid(axis='y', linestyle='--', alpha=0.7)\n",
    "    plt.legend(title='Level Soal')\n",
    "    \n",
    "    plt.show()\n",
    "else:\n",
    "    print(\"Tidak ada data untuk dibuat grafik.\")"
   ]
  },
  {
   "cell_type": "markdown",
   "id": "44723af5",
   "metadata": {},
   "source": [
    "Kode di atas berfungsi untuk menghitung dan memvisualisasikan distribusi persentase kecocokan kata kerja unik dari setiap level soal terhadap setiap level dalam taksonomi Bloom. Dari Grafik di atas dapat di ambil kesimpulan bahwa distribusi kata kerja unik pada setiap level soal (Level 1, Level 2, Level 3) menunjukkan kecenderungan tersebar pada level kognitif C1, C2, dan C3 dalam taksonomi Bloom. Hal ini terlihat dari persentase kecocokan yang relatif tinggi pada ketiga level tersebut dibandingkan dengan C4, C5, dan C6 yang memiliki persentase lebih rendah. Artinya, sebagian besar soal cenderung mengandung kata kerja yang merepresentasikan kemampuan kognitif tingkat rendah hingga menengah, seperti mengingat, memahami, dan menerapkan, sedangkan kemampuan analisis, evaluasi, dan mencipta masih kurang terwakili dalam soal-soal yang dianalisis."
   ]
  },
  {
   "cell_type": "code",
   "execution_count": 28,
   "id": "6d10bc07",
   "metadata": {},
   "outputs": [
    {
     "name": "stdout",
     "output_type": "stream",
     "text": [
      "\n",
      "=== Level: 1 ===\n",
      "\n",
      "10 Kata Kerja (Stemmed) Paling Umum:\n",
      "- adalah: 16 kali\n",
      "- dapat: 6 kali\n",
      "- sebut: 4 kali\n",
      "- perhati: 3 kali\n",
      "- ajar: 2 kali\n",
      "- guna: 2 kali\n",
      "- bentuk: 2 kali\n",
      "- hidup: 2 kali\n",
      "- bisa: 2 kali\n",
      "- milik: 2 kali\n",
      "\n",
      "Distribusi pada Taksonomi Bloom (% Kata Kerja Unik di Level Ini yang Cocok):\n",
      "- C1: 11.43%\n",
      "- C2: 8.57%\n",
      "- C3: 11.43%\n",
      "- C4: 0.00%\n",
      "- C5: 0.00%\n",
      "- C6: 8.57%\n",
      "\n",
      "=== Level: 2 ===\n",
      "\n",
      "10 Kata Kerja (Stemmed) Paling Umum:\n",
      "- adalah: 46 kali\n",
      "- dapat: 11 kali\n",
      "- laku: 9 kali\n",
      "- masuk: 8 kali\n",
      "- sebut: 8 kali\n",
      "- sebab: 8 kali\n",
      "- bentuk: 6 kali\n",
      "- hidup: 6 kali\n",
      "- hasil: 5 kali\n",
      "- jadi: 5 kali\n",
      "\n",
      "Distribusi pada Taksonomi Bloom (% Kata Kerja Unik di Level Ini yang Cocok):\n",
      "- C1: 10.77%\n",
      "- C2: 13.85%\n",
      "- C3: 6.15%\n",
      "- C4: 4.62%\n",
      "- C5: 7.69%\n",
      "- C6: 6.15%\n",
      "\n",
      "=== Level: 3 ===\n",
      "\n",
      "10 Kata Kerja (Stemmed) Paling Umum:\n",
      "- adalah: 42 kali\n",
      "- laku: 7 kali\n",
      "- ada: 6 kali\n",
      "- milik: 6 kali\n",
      "- sebab: 6 kali\n",
      "- jadi: 5 kali\n",
      "- sebut: 5 kali\n",
      "- masuk: 5 kali\n",
      "- perlu: 4 kali\n",
      "- bisa: 4 kali\n",
      "\n",
      "Distribusi pada Taksonomi Bloom (% Kata Kerja Unik di Level Ini yang Cocok):\n",
      "- C1: 8.33%\n",
      "- C2: 6.94%\n",
      "- C3: 11.11%\n",
      "- C4: 4.17%\n",
      "- C5: 2.78%\n",
      "- C6: 5.56%\n"
     ]
    }
   ],
   "source": [
    "for level, all_verbs in verbs_by_level.items():\n",
    "    print(f\"\\n=== Level: {level} ===\")   \n",
    "    \n",
    "    if not all_verbs:\n",
    "        print(\"Tidak ditemukan kata kerja untuk level ini.\")\n",
    "        continue\n",
    "\n",
    "    verb_counts = Counter(all_verbs)\n",
    "    print(\"\\n10 Kata Kerja (Stemmed) Paling Umum:\")\n",
    "    for verb, count in verb_counts.most_common(10):\n",
    "        print(f\"- {verb}: {count} kali\")\n",
    "\n",
    "    bloom_distribution = analyze_level_profile(all_verbs, bloom_keywords_stemmed)\n",
    "\n",
    "    print(\"\\nDistribusi pada Taksonomi Bloom (% Kata Kerja Unik di Level Ini yang Cocok):\")\n",
    "    if bloom_distribution:\n",
    "        sorted_distribution = sorted(bloom_distribution.items())\n",
    "        for bloom_level, percentage in sorted_distribution:\n",
    "            print(f\"- {bloom_level}: {percentage:.2f}%\")\n",
    "    else:\n",
    "        print(\"Tidak ada kecocokan dengan kamus Taksonomi Bloom.\")\n"
   ]
  },
  {
   "cell_type": "markdown",
   "id": "6c54b6ca",
   "metadata": {},
   "source": [
    "Kode di atas digunakan untuk menganalisis kata kerja yang paling sering digunakan dalam soal berdasarkan level soal, serta mengukur kesesuaian kata kerja tersebut terhadap level kognitif Taksonomi Bloom. Berdasarkan analisis terhadap distribusi kata kerja dalam soal dari tiga level yang berbeda, ditemukan bahwa kata kerja yang paling sering muncul adalah \"adalah\", \"dapat\", \"laku\", \"sebut\", dan \"bentuk\". Distribusi persentase kecocokan kata kerja unik terhadap kategori taksonomi Bloom menunjukkan bahwa dominasi utama berada pada level kognitif rendah hingga menengah, yaitu C1 (mengingat), C2 (memahami), dan C3 (menerapkan), dengan persentase tertinggi masing-masing mencapai sekitar 11–14%. Sementara itu, level kognitif tinggi seperti C4 (menganalisis), C5 (mengevaluasi), dan C6 (mencipta) menunjukkan persentase yang jauh lebih rendah, bahkan pada beberapa level soal tidak ditemukan sama sekali kecocokan dengan kategori tersebut. Hal ini mengindikasikan bahwa sebagian besar soal cenderung menekankan pada pengujian pengetahuan dasar dan pemahaman, serta masih kurang mengeksplorasi keterampilan berpikir tingkat tinggi yang lebih kompleks.\n"
   ]
  }
 ],
 "metadata": {
  "kernelspec": {
   "display_name": "Python 3",
   "language": "python",
   "name": "python3"
  },
  "language_info": {
   "codemirror_mode": {
    "name": "ipython",
    "version": 3
   },
   "file_extension": ".py",
   "mimetype": "text/x-python",
   "name": "python",
   "nbconvert_exporter": "python",
   "pygments_lexer": "ipython3",
   "version": "3.12.10"
  }
 },
 "nbformat": 4,
 "nbformat_minor": 5
}
